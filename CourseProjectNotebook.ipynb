{
  "nbformat": 4,
  "nbformat_minor": 0,
  "metadata": {
    "colab": {
      "name": "CourseProjectNotebook.ipynb",
      "provenance": [],
      "collapsed_sections": [],
      "toc_visible": true
    },
    "kernelspec": {
      "name": "python3",
      "display_name": "Python 3"
    },
    "accelerator": "GPU"
  },
  "cells": [
    {
      "cell_type": "markdown",
      "metadata": {
        "id": "jSHGIV409D4v"
      },
      "source": [
        "# CS 5665 Final Project"
      ]
    },
    {
      "cell_type": "markdown",
      "metadata": {
        "id": "sKtTsF9w9D1T"
      },
      "source": [
        "Data files loaded previously into local repository."
      ]
    },
    {
      "cell_type": "markdown",
      "metadata": {
        "id": "i_86QUym87om"
      },
      "source": [
        "# Baseline NN Model"
      ]
    },
    {
      "cell_type": "markdown",
      "metadata": {
        "id": "hyt_5wDncofI"
      },
      "source": [
        "Load Libraries/Data"
      ]
    },
    {
      "cell_type": "code",
      "metadata": {
        "id": "HO-rOQOiybjL"
      },
      "source": [
        "import numpy as np\n",
        "import pandas as pd\n",
        "import json\n",
        "import torch\n",
        "from torch import nn\n",
        "from torch.utils.data import Dataset, DataLoader\n",
        "from sklearn.preprocessing import LabelEncoder, OneHotEncoder\n",
        "from google.colab import files\n",
        "# device = 'cuda'\n",
        "# uploaded = files.upload()"
      ],
      "execution_count": 3,
      "outputs": []
    },
    {
      "cell_type": "markdown",
      "metadata": {
        "id": "CyEHG5kjcvPY"
      },
      "source": [
        "Hyperparameters"
      ]
    },
    {
      "cell_type": "code",
      "metadata": {
        "id": "PcLwEslCcq1f"
      },
      "source": [
        "N_EPOCH = 10\n",
        "BATCH_SIZE = 128\n",
        "LEARN_RATE = 0.01\n",
        "FEATURE_SIZE = 21"
      ],
      "execution_count": 4,
      "outputs": []
    },
    {
      "cell_type": "markdown",
      "metadata": {
        "id": "28d0-DLtc6m9"
      },
      "source": [
        "Encoding Functions"
      ]
    },
    {
      "cell_type": "code",
      "metadata": {
        "id": "JKc5fTvHc8Gu"
      },
      "source": [
        "def one_hot(categories, string):\n",
        "    encoding = np.zeros((len(string), len(categories)))\n",
        "    for idx, char in enumerate(string):\n",
        "        encoding[idx, categories.index(char)] = 1\n",
        "    return encoding\n",
        "\n",
        "def featurize(entity):\n",
        "    sequence = one_hot(list('ACGU'), entity['sequence'])\n",
        "    structure = one_hot(list('.()'), entity['structure'])\n",
        "    loop_type = one_hot(list('BEHIMSX'), entity['predicted_loop_type'])\n",
        "    features = np.hstack([sequence, structure, loop_type])\n",
        "    return features \n",
        "\n",
        "def char_encode(index, features, feature_size):\n",
        "    half_size = (feature_size - 1) // 2\n",
        "    \n",
        "    if index - half_size < 0:\n",
        "        char_features = features[:index+half_size+1]\n",
        "        padding = np.zeros((int(half_size - index), char_features.shape[1]))\n",
        "        char_features = np.vstack([padding, char_features])\n",
        "    elif index + half_size + 1 > len(features):\n",
        "        char_features = features[index-half_size:]\n",
        "        padding = np.zeros((int(half_size - (len(features) - index))+1, char_features.shape[1]))\n",
        "        char_features = np.vstack([char_features, padding])\n",
        "    else:\n",
        "        char_features = features[index-half_size:index+half_size+1]\n",
        "    \n",
        "    return char_features"
      ],
      "execution_count": 5,
      "outputs": []
    },
    {
      "cell_type": "markdown",
      "metadata": {
        "id": "7Jv8AGEkdnmT"
      },
      "source": [
        "Datasets"
      ]
    },
    {
      "cell_type": "code",
      "metadata": {
        "id": "yxGZqZ-odoep"
      },
      "source": [
        "class VaxDataset(Dataset):\n",
        "    def __init__(self, path, test=False):\n",
        "        self.path = path\n",
        "        self.test = test\n",
        "        self.features = []\n",
        "        self.targets = []\n",
        "        self.ids = []\n",
        "        self.load_data()\n",
        "    \n",
        "    def load_data(self):\n",
        "        with open(self.path, 'r') as text:\n",
        "            for line in text:\n",
        "                records = json.loads(line)\n",
        "                features = featurize(records)\n",
        "                \n",
        "                for char_i in range(records['seq_scored']):\n",
        "                    char_features = char_encode(char_i, features, FEATURE_SIZE)\n",
        "                    self.features.append(char_features)\n",
        "                    self.ids.append('%s_%d' % (records['id'], char_i))\n",
        "                        \n",
        "                if not self.test:\n",
        "                    targets = np.stack([records['reactivity'], records['deg_Mg_pH10'], records['deg_Mg_50C']], axis=1)\n",
        "                    self.targets.extend([targets[char_i] for char_i in range(records['seq_scored'])])\n",
        "                    \n",
        "    def __len__(self):\n",
        "        return len(self.features)\n",
        "    \n",
        "    def __getitem__(self, index):\n",
        "        if self.test:\n",
        "            return self.features[index], self.ids[index]\n",
        "        else:\n",
        "            return self.features[index], self.targets[index], self.ids[index]"
      ],
      "execution_count": 6,
      "outputs": []
    },
    {
      "cell_type": "markdown",
      "metadata": {
        "id": "IV0rZEZs7-gQ"
      },
      "source": [
        "## Training Data"
      ]
    },
    {
      "cell_type": "code",
      "metadata": {
        "id": "CytzvjJldu2L"
      },
      "source": [
        "train_dataset = VaxDataset('train.json')\n",
        "train_dataloader = DataLoader(train_dataset, BATCH_SIZE, shuffle=True, num_workers=4, pin_memory=True)"
      ],
      "execution_count": 7,
      "outputs": []
    },
    {
      "cell_type": "markdown",
      "metadata": {
        "id": "ooUnRmdKfh2Y"
      },
      "source": [
        "Model"
      ]
    },
    {
      "cell_type": "code",
      "metadata": {
        "id": "r769D54Idvcb"
      },
      "source": [
        "class Flatten(nn.Module):\n",
        "    def forward(self, x):\n",
        "        batch_size = x.shape[0]\n",
        "        return x.view(batch_size, -1)\n",
        "\n",
        "class VaxModel(nn.Module):\n",
        "    def __init__(self):\n",
        "        super(VaxModel, self).__init__()\n",
        "        self.layers = nn.Sequential(\n",
        "            nn.Dropout(0.3),\n",
        "            nn.Conv1d(14, 32, 1, 1),\n",
        "            nn.ReLU(),\n",
        "            nn.BatchNorm1d(32),\n",
        "            nn.Dropout(0.3),\n",
        "            nn.Conv1d(32, 1, 1, 1),\n",
        "            nn.ReLU(),\n",
        "            Flatten(),\n",
        "            nn.Dropout(0.2),\n",
        "            nn.Linear(FEATURE_SIZE, 32),\n",
        "            nn.ReLU(),\n",
        "            nn.BatchNorm1d(32),\n",
        "            nn.Dropout(0.3),\n",
        "            nn.Linear(32, 3),\n",
        "        )\n",
        "    \n",
        "    def forward(self, features):\n",
        "        return self.layers(features)"
      ],
      "execution_count": 8,
      "outputs": []
    },
    {
      "cell_type": "markdown",
      "metadata": {
        "id": "s9q1ebaxfv5W"
      },
      "source": [
        "Train the model"
      ]
    },
    {
      "cell_type": "code",
      "metadata": {
        "id": "1dBM1ybGfxIk"
      },
      "source": [
        "model = VaxModel().cuda()\n",
        "optimizer = torch.optim.Adam(model.parameters(), LEARN_RATE)\n",
        "criterion = nn.MSELoss()"
      ],
      "execution_count": 9,
      "outputs": []
    },
    {
      "cell_type": "code",
      "metadata": {
        "id": "h_ahjSXQfz7F",
        "colab": {
          "base_uri": "https://localhost:8080/"
        },
        "outputId": "c7748142-7af1-4378-8c58-f7ac3008c16e"
      },
      "source": [
        "for epoch in range(N_EPOCH):\n",
        "    losses = []\n",
        "    model.train()\n",
        "    for features, targets, ids in train_dataloader:\n",
        "        features = features.cuda().permute(0,2,1).float()\n",
        "        targets = targets.cuda().float()\n",
        "        predictions = model(features)\n",
        "        loss = criterion(predictions, targets)\n",
        "        for p in model.parameters():\n",
        "            p.grad = None\n",
        "        loss.backward()\n",
        "        optimizer.step()\n",
        "        losses.append(loss.detach().cpu().numpy())\n",
        "    avg_loss = float(np.mean(losses))\n",
        "    print(epoch, avg_loss)\n",
        "\n",
        "torch.save(model.state_dict(), 'weights.pth')"
      ],
      "execution_count": 10,
      "outputs": [
        {
          "output_type": "stream",
          "text": [
            "0 0.5535919070243835\n",
            "1 0.5437663793563843\n",
            "2 0.5426644682884216\n",
            "3 0.5410770177841187\n",
            "4 0.5407720804214478\n",
            "5 0.5422633290290833\n",
            "6 0.539517343044281\n",
            "7 0.5399692058563232\n",
            "8 0.5412024259567261\n",
            "9 0.5402473211288452\n"
          ],
          "name": "stdout"
        }
      ]
    },
    {
      "cell_type": "markdown",
      "metadata": {
        "id": "23GzKSeq7znB"
      },
      "source": [
        "## Testing Data"
      ]
    },
    {
      "cell_type": "markdown",
      "metadata": {
        "id": "vxixr7NO72T3"
      },
      "source": [
        "Configuration and Data Loading"
      ]
    },
    {
      "cell_type": "code",
      "metadata": {
        "id": "gDTfMio_7x9e"
      },
      "source": [
        "WEIGHTS_PATH = 'weights.pth'\n",
        "FEATURE_SIZE = 21\n",
        "BATCH_SIZE = 128"
      ],
      "execution_count": 11,
      "outputs": []
    },
    {
      "cell_type": "code",
      "metadata": {
        "id": "2y6KAZfl8InP"
      },
      "source": [
        "test_dataset = VaxDataset('test.json', test=True)\n",
        "test_dataloader = DataLoader(test_dataset, BATCH_SIZE, num_workers=4, drop_last=False, pin_memory=True)"
      ],
      "execution_count": 12,
      "outputs": []
    },
    {
      "cell_type": "markdown",
      "metadata": {
        "id": "WrzghfhC8a2q"
      },
      "source": [
        "Inference"
      ]
    },
    {
      "cell_type": "code",
      "metadata": {
        "id": "9IxssynD8UlE"
      },
      "source": [
        "model = VaxModel().cuda()"
      ],
      "execution_count": 13,
      "outputs": []
    },
    {
      "cell_type": "code",
      "metadata": {
        "id": "q_AGNKQw8b5z"
      },
      "source": [
        "sub = pd.read_csv('sample_submission.csv', index_col='id_seqpos')"
      ],
      "execution_count": 14,
      "outputs": []
    },
    {
      "cell_type": "code",
      "metadata": {
        "colab": {
          "base_uri": "https://localhost:8080/"
        },
        "id": "xxA0AHWs8iHj",
        "outputId": "831e49f4-57e4-4deb-b37f-491135538fe0"
      },
      "source": [
        "from tqdm import tqdm\n",
        "model.load_state_dict(torch.load(WEIGHTS_PATH))\n",
        "model.eval()\n",
        "for features, ids in tqdm(test_dataloader):\n",
        "    features = features.cuda().permute(0,2,1).float()\n",
        "    predictions = model(features)\n",
        "    sub.loc[ids, ['reactivity', 'deg_Mg_pH10', 'deg_Mg_50C']] = predictions.detach().cpu().numpy()"
      ],
      "execution_count": 15,
      "outputs": [
        {
          "output_type": "stream",
          "text": [
            "100%|██████████| 2471/2471 [00:09<00:00, 253.68it/s]\n"
          ],
          "name": "stderr"
        }
      ]
    },
    {
      "cell_type": "markdown",
      "metadata": {
        "id": "DZqboj-f81Zl"
      },
      "source": [
        "Submission CSV"
      ]
    },
    {
      "cell_type": "code",
      "metadata": {
        "id": "EJpZ90GA8lXf"
      },
      "source": [
        "sub.to_csv('submission3.csv')"
      ],
      "execution_count": 16,
      "outputs": []
    },
    {
      "cell_type": "markdown",
      "metadata": {
        "id": "N0mCrZ149ZEX"
      },
      "source": [
        "# Resnet18 Model"
      ]
    },
    {
      "cell_type": "code",
      "metadata": {
        "id": "HKVZvfh78wH-"
      },
      "source": [
        "import torch.nn as nn\n",
        "def conv3x3(in_planes, out_planes, stride=1, groups=1, dilation=1):\n",
        "    \"\"\"3x3 convolution with padding\"\"\"\n",
        "    return nn.Conv2d(in_planes, out_planes, kernel_size=3, stride=stride,\n",
        "                     padding=dilation, groups=groups, bias=False, dilation=dilation)\n",
        "\n",
        "\n",
        "def conv1x1(in_planes, out_planes, stride=1):\n",
        "    \"\"\"1x1 convolution\"\"\"\n",
        "    return nn.Conv2d(in_planes, out_planes, kernel_size=1, stride=stride, bias=False)\n",
        "\n",
        "\n",
        "class BasicBlock(nn.Module):\n",
        "    expansion = 1\n",
        "\n",
        "    def __init__(self, inplanes, planes, stride=1, downsample=None, groups=1,\n",
        "                 base_width=64, dilation=1, norm_layer=None):\n",
        "        super(BasicBlock, self).__init__()\n",
        "        if norm_layer is None:\n",
        "            norm_layer = nn.BatchNorm2d\n",
        "        if groups != 1 or base_width != 64:\n",
        "            raise ValueError('BasicBlock only supports groups=1 and base_width=64')\n",
        "        if dilation > 1:\n",
        "            raise NotImplementedError(\"Dilation > 1 not supported in BasicBlock\")\n",
        "        # Both self.conv1 and self.downsample layers downsample the input when stride != 1\n",
        "        self.conv1 = conv3x3(inplanes, planes, stride)\n",
        "        self.bn1 = norm_layer(planes)\n",
        "        self.relu = nn.ReLU(inplace=True)\n",
        "        self.conv2 = conv3x3(planes, planes)\n",
        "        self.bn2 = norm_layer(planes)\n",
        "        self.downsample = downsample\n",
        "        self.stride = stride\n",
        "\n",
        "    def forward(self, x):\n",
        "        identity = x\n",
        "\n",
        "        out = self.conv1(x)\n",
        "        out = self.bn1(out)\n",
        "        out = self.relu(out)\n",
        "\n",
        "        out = self.conv2(out)\n",
        "        out = self.bn2(out)\n",
        "\n",
        "        if self.downsample is not None:\n",
        "            identity = self.downsample(x)\n",
        "\n",
        "        out += identity\n",
        "        out = self.relu(out)\n",
        "\n",
        "        return out\n",
        "\n",
        "\n",
        "class Bottleneck(nn.Module):\n",
        "    # Bottleneck in torchvision places the stride for downsampling at 3x3 convolution(self.conv2)\n",
        "    # while original implementation places the stride at the first 1x1 convolution(self.conv1)\n",
        "    # according to \"Deep residual learning for image recognition\"https://arxiv.org/abs/1512.03385.\n",
        "    # This variant is also known as ResNet V1.5 and improves accuracy according to\n",
        "    # https://ngc.nvidia.com/catalog/model-scripts/nvidia:resnet_50_v1_5_for_pytorch.\n",
        "\n",
        "    expansion = 4\n",
        "\n",
        "    def __init__(self, inplanes, planes, stride=1, downsample=None, groups=1,\n",
        "                 base_width=64, dilation=1, norm_layer=None):\n",
        "        super(Bottleneck, self).__init__()\n",
        "        if norm_layer is None:\n",
        "            norm_layer = nn.BatchNorm2d\n",
        "        width = int(planes * (base_width / 64.)) * groups\n",
        "        # Both self.conv2 and self.downsample layers downsample the input when stride != 1\n",
        "        self.conv1 = conv1x1(inplanes, width)\n",
        "        self.bn1 = norm_layer(width)\n",
        "        self.conv2 = conv3x3(width, width, stride, groups, dilation)\n",
        "        self.bn2 = norm_layer(width)\n",
        "        self.conv3 = conv1x1(width, planes * self.expansion)\n",
        "        self.bn3 = norm_layer(planes * self.expansion)\n",
        "        self.relu = nn.ReLU(inplace=True)\n",
        "        self.downsample = downsample\n",
        "        self.stride = stride\n",
        "\n",
        "    def forward(self, x):\n",
        "        identity = x\n",
        "\n",
        "        out = self.conv1(x)\n",
        "        out = self.bn1(out)\n",
        "        out = self.relu(out)\n",
        "\n",
        "        out = self.conv2(out)\n",
        "        out = self.bn2(out)\n",
        "        out = self.relu(out)\n",
        "\n",
        "        out = self.conv3(out)\n",
        "        out = self.bn3(out)\n",
        "\n",
        "        if self.downsample is not None:\n",
        "            identity = self.downsample(x)\n",
        "\n",
        "        out += identity\n",
        "        out = self.relu(out)\n",
        "\n",
        "        return out\n",
        "\n",
        "\n",
        "class ResNet(nn.Module):\n",
        "\n",
        "    def __init__(self, block, layers, num_classes=1000, zero_init_residual=False,\n",
        "                 groups=1, width_per_group=64, replace_stride_with_dilation=None,\n",
        "                 norm_layer=None):\n",
        "        super(ResNet, self).__init__()\n",
        "        if norm_layer is None:\n",
        "            norm_layer = nn.BatchNorm2d\n",
        "        self._norm_layer = norm_layer\n",
        "\n",
        "        self.inplanes = 64\n",
        "        self.dilation = 1\n",
        "        if replace_stride_with_dilation is None:\n",
        "            # each element in the tuple indicates if we should replace\n",
        "            # the 2x2 stride with a dilated convolution instead\n",
        "            replace_stride_with_dilation = [False, False, False]\n",
        "        if len(replace_stride_with_dilation) != 3:\n",
        "            raise ValueError(\"replace_stride_with_dilation should be None \"\n",
        "                             \"or a 3-element tuple, got {}\".format(replace_stride_with_dilation))\n",
        "        self.groups = groups\n",
        "        self.base_width = width_per_group\n",
        "        self.conv1 = nn.Conv2d(1, self.inplanes, kernel_size=7, stride=2, padding=3,\n",
        "                               bias=False)\n",
        "        self.bn1 = norm_layer(self.inplanes)\n",
        "        self.relu = nn.ReLU(inplace=True)\n",
        "        self.maxpool = nn.MaxPool2d(kernel_size=3, stride=2, padding=1)\n",
        "        self.layer1 = self._make_layer(block, 64, layers[0])\n",
        "        self.layer2 = self._make_layer(block, 128, layers[1], stride=2,\n",
        "                                       dilate=replace_stride_with_dilation[0])\n",
        "        self.layer3 = self._make_layer(block, 256, layers[2], stride=2,\n",
        "                                       dilate=replace_stride_with_dilation[1])\n",
        "        self.layer4 = self._make_layer(block, 512, layers[3], stride=2,\n",
        "                                       dilate=replace_stride_with_dilation[2])\n",
        "        self.avgpool = nn.AdaptiveAvgPool2d((1, 1))\n",
        "        self.fc = nn.Linear(512 * block.expansion, num_classes)\n",
        "\n",
        "        for m in self.modules():\n",
        "            if isinstance(m, nn.Conv2d):\n",
        "                nn.init.kaiming_normal_(m.weight, mode='fan_out', nonlinearity='relu')\n",
        "            elif isinstance(m, (nn.BatchNorm2d, nn.GroupNorm)):\n",
        "                nn.init.constant_(m.weight, 1)\n",
        "                nn.init.constant_(m.bias, 0)\n",
        "\n",
        "        # Zero-initialize the last BN in each residual branch,\n",
        "        # so that the residual branch starts with zeros, and each residual block behaves like an identity.\n",
        "        # This improves the model by 0.2~0.3% according to https://arxiv.org/abs/1706.02677\n",
        "        if zero_init_residual:\n",
        "            for m in self.modules():\n",
        "                if isinstance(m, Bottleneck):\n",
        "                    nn.init.constant_(m.bn3.weight, 0)\n",
        "                elif isinstance(m, BasicBlock):\n",
        "                    nn.init.constant_(m.bn2.weight, 0)\n",
        "\n",
        "    def _make_layer(self, block, planes, blocks, stride=1, dilate=False):\n",
        "        norm_layer = self._norm_layer\n",
        "        downsample = None\n",
        "        previous_dilation = self.dilation\n",
        "        if dilate:\n",
        "            self.dilation *= stride\n",
        "            stride = 1\n",
        "        if stride != 1 or self.inplanes != planes * block.expansion:\n",
        "            downsample = nn.Sequential(\n",
        "                conv1x1(self.inplanes, planes * block.expansion, stride),\n",
        "                norm_layer(planes * block.expansion),\n",
        "            )\n",
        "\n",
        "        layers = []\n",
        "        layers.append(block(self.inplanes, planes, stride, downsample, self.groups,\n",
        "                            self.base_width, previous_dilation, norm_layer))\n",
        "        self.inplanes = planes * block.expansion\n",
        "        for _ in range(1, blocks):\n",
        "            layers.append(block(self.inplanes, planes, groups=self.groups,\n",
        "                                base_width=self.base_width, dilation=self.dilation,\n",
        "                                norm_layer=norm_layer))\n",
        "\n",
        "        return nn.Sequential(*layers)\n",
        "\n",
        "    def _forward_impl(self, x):\n",
        "        # See note [TorchScript super()]\n",
        "        x = self.conv1(x)\n",
        "        x = self.bn1(x)\n",
        "        x = self.relu(x)\n",
        "        x = self.maxpool(x)\n",
        "\n",
        "        x = self.layer1(x)\n",
        "        x = self.layer2(x)\n",
        "        x = self.layer3(x)\n",
        "        x = self.layer4(x)\n",
        "\n",
        "        x = self.avgpool(x)\n",
        "        x = torch.flatten(x, 1)\n",
        "        x = self.fc(x)\n",
        "\n",
        "        return x\n",
        "\n",
        "    def forward(self, x):\n",
        "        return self._forward_impl(x)\n",
        "\n",
        "\n",
        "def _resnet(arch, block, layers, pretrained, progress, **kwargs):\n",
        "    model = ResNet(block, layers, **kwargs)\n",
        "    if pretrained:\n",
        "        state_dict = load_state_dict_from_url(model_urls[arch],\n",
        "                                              progress=progress)\n",
        "        model.load_state_dict(state_dict)\n",
        "    return model\n",
        "\n",
        "\n",
        "def resnet18(pretrained=False, progress=True, **kwargs):\n",
        "    r\"\"\"ResNet-18 model from\n",
        "    `\"Deep Residual Learning for Image Recognition\" <https://arxiv.org/pdf/1512.03385.pdf>`_\n",
        "    Args:\n",
        "        pretrained (bool): If True, returns a model pre-trained on ImageNet\n",
        "        progress (bool): If True, displays a progress bar of the download to stderr\n",
        "    \"\"\"\n",
        "    return _resnet('resnet18', BasicBlock, [1, 1, 1, 1], pretrained, progress,\n",
        "                   **kwargs)\n",
        "\n",
        "\n",
        "class VaxModel(nn.Module):\n",
        "\n",
        "    def __init__(self):\n",
        "        super(VaxModel, self).__init__()\n",
        "        self.resnet = resnet18()\n",
        "        self.drop = nn.Dropout(0.3)\n",
        "        self.linear1 =   nn.Linear(1000, 32)\n",
        "        self.drop1 = nn.Dropout(0.3)\n",
        "        self.rl1 =    nn.PReLU()\n",
        "        self.btn1=   nn.BatchNorm1d(32)\n",
        "        self.drop2=  nn.Dropout(0.3)\n",
        "        self.ln =     nn.Linear(32, 3)\n",
        "        \n",
        "\n",
        "    def forward(self, x):\n",
        "        x = self.drop(x)\n",
        "        x = x.reshape(x.shape[0],1, x.shape[1], x.shape[2])\n",
        "        x = self.resnet(x)\n",
        "        x = self.drop1(x)\n",
        "        x = self.linear1(x)\n",
        "        x = self.rl1(x)\n",
        "        x = self.btn1(x)\n",
        "        x = self.drop2(x)\n",
        "        x = self.ln(x)\n",
        "        return x"
      ],
      "execution_count": 17,
      "outputs": []
    },
    {
      "cell_type": "markdown",
      "metadata": {
        "id": "85xbi3J-AdoW"
      },
      "source": [
        "Training Data"
      ]
    },
    {
      "cell_type": "code",
      "metadata": {
        "id": "zH2oihqxAFQ4"
      },
      "source": [
        "model = VaxModel().cuda()\n",
        "optimizer = torch.optim.Adam(model.parameters(), LEARN_RATE)\n",
        "scheduler = torch.optim.lr_scheduler.ReduceLROnPlateau(optimizer, 'min',patience=5,factor=0.6)\n",
        "criterion = nn.MSELoss()"
      ],
      "execution_count": 18,
      "outputs": []
    },
    {
      "cell_type": "code",
      "metadata": {
        "colab": {
          "base_uri": "https://localhost:8080/"
        },
        "id": "JOMlOqhWAe_4",
        "outputId": "7f930fd4-e3a1-4cd6-c58a-3345af9eeeb0"
      },
      "source": [
        "best_avg = 1\n",
        "stop_ep = 0\n",
        "for epoch in range(N_EPOCH):\n",
        "    losses = []\n",
        "    model.train()\n",
        "    for features, targets, ids in train_dataloader:\n",
        "        features = features.cuda().permute(0,2,1).float()\n",
        "        targets = targets.cuda().float()\n",
        "        predictions = model(features)\n",
        "        loss = criterion(predictions, targets)\n",
        "        for p in model.parameters():\n",
        "            p.grad = None\n",
        "        loss.backward()\n",
        "        optimizer.step()\n",
        "        losses.append(loss.detach().cpu().numpy())\n",
        "    avg_loss = float(np.mean(losses))\n",
        "    scheduler.step(metrics= avg_loss)\n",
        "    if avg_loss < best_avg:\n",
        "        stop_ep = 0\n",
        "        best_avg = avg_loss\n",
        "        print(f\"{epoch}: {avg_loss} saved model!!!!\")\n",
        "        torch.save(model.state_dict(), 'weights.pth')\n",
        "    else:\n",
        "        stop_ep += 1\n",
        "        print(f\"{epoch}: {avg_loss}\")\n",
        "    if stop_ep >= 10:\n",
        "        break"
      ],
      "execution_count": 19,
      "outputs": [
        {
          "output_type": "stream",
          "text": [
            "0: 0.5291779637336731 saved model!!!!\n",
            "1: 0.5043544173240662 saved model!!!!\n",
            "2: 0.5013427734375 saved model!!!!\n",
            "3: 0.49684062600135803 saved model!!!!\n",
            "4: 0.496849924325943\n",
            "5: 0.49297717213630676 saved model!!!!\n",
            "6: 0.49234914779663086 saved model!!!!\n",
            "7: 0.48822274804115295 saved model!!!!\n",
            "8: 0.48568522930145264 saved model!!!!\n",
            "9: 0.48500001430511475 saved model!!!!\n"
          ],
          "name": "stdout"
        }
      ]
    },
    {
      "cell_type": "markdown",
      "metadata": {
        "id": "rWuhuEKaAt32"
      },
      "source": [
        "Testing Data"
      ]
    },
    {
      "cell_type": "code",
      "metadata": {
        "id": "Ta3QELL7Asis"
      },
      "source": [
        "model = VaxModel().cuda()"
      ],
      "execution_count": 20,
      "outputs": []
    },
    {
      "cell_type": "code",
      "metadata": {
        "id": "3EapuU-gA66-"
      },
      "source": [
        "sub = pd.read_csv('sample_submission.csv', index_col='id_seqpos')"
      ],
      "execution_count": 21,
      "outputs": []
    },
    {
      "cell_type": "code",
      "metadata": {
        "colab": {
          "base_uri": "https://localhost:8080/"
        },
        "id": "h_SOw-PwA7Dh",
        "outputId": "a7457974-e26e-4f81-b201-cab3621050e8"
      },
      "source": [
        "model.load_state_dict(torch.load(WEIGHTS_PATH))\n",
        "model.eval()\n",
        "for features, ids in tqdm(test_dataloader):\n",
        "    features = features.cuda().permute(0,2,1).float()\n",
        "    predictions = model(features)\n",
        "    sub.loc[ids, ['reactivity', 'deg_Mg_pH10', 'deg_Mg_50C']] = predictions.detach().cpu().numpy()"
      ],
      "execution_count": 22,
      "outputs": [
        {
          "output_type": "stream",
          "text": [
            "100%|██████████| 2471/2471 [00:15<00:00, 159.18it/s]\n"
          ],
          "name": "stderr"
        }
      ]
    },
    {
      "cell_type": "code",
      "metadata": {
        "id": "UYQIL6l3A6v7"
      },
      "source": [
        "sub.to_csv('submission4.csv')"
      ],
      "execution_count": 23,
      "outputs": []
    }
  ]
}